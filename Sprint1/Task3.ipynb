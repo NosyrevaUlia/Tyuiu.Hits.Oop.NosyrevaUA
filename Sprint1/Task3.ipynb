{
 "cells": [
  {
   "cell_type": "markdown",
   "metadata": {},
   "source": [
    "<h1 style=\"color:DodgerBlue\">Индивидальный проект</h1>"
   ]
  },
  {
   "cell_type": "markdown",
   "metadata": {},
   "source": [
    "<h2 style=\"color:DodgerBlue\">Название проекта:</h2>\n",
    "\n",
    "----\n",
    "\n",
    "### Вариант задания \n",
    "16"
   ]
  },
  {
   "cell_type": "markdown",
   "metadata": {},
   "source": [
    "<h2 style=\"color:DodgerBlue\">Описание проекта:</h2>\n",
    "\n",
    "----\n",
    "\n",
    "Описание задачи:\n",
    "Создать базовый класс PaymentMethod в C#, который будет представлять\n",
    "различные способы оплаты. На основе этого класса разработать 2-3 производных\n",
    "класса, демонстрирующих принципы наследования и полиморфизма. В каждом из\n",
    "классов должны быть реализованы новые атрибуты и методы, а также\n",
    "переопределены некоторые методы базового класса для демонстрации\n",
    "полиморфизма.\n",
    "Требования к базовому классу PaymentMethod:\n",
    "• Атрибуты: ID способа оплаты (PaymentMethodId), Название способа оплаты\n",
    "(MethodName), Минимальная сумма (MinAmount).\n",
    "• Методы:\n",
    "o ProcessPayment(decimal amount): метод для обработки платежа\n",
    "указанной суммы.\n",
    "o CheckMinimumAmount(decimal amount): метод для проверки\n",
    "минимальной суммы платежа.\n",
    "o GetPaymentDetails(): метод для получения деталей способа оплаты.\n",
    "Требования к производным классам:\n",
    "1. ОнлайнОплата (OnlinePayment): Должен содержать дополнительные\n",
    "атрибуты, такие как URL платежной системы (PaymentUrl).\n",
    "Метод ProcessPayment() должен быть переопределен для включения URL\n",
    "платежной системы в процесс оплаты.\n",
    "2. БанковскийПеревод (BankTransfer): Должен содержать дополнительные\n",
    "атрибуты, такие как Банковские данные (BankData).\n",
    "Метод CheckMinimumAmount() должен быть переопределен для проверки\n",
    "минимальной суммы платежа с учетом банковских комиссий.\n",
    "3. Наличные (CashPayment) (если требуется третий класс): Должен содержать\n",
    "дополнительные атрибуты, такие как Место выдачи наличных\n",
    "(CashPickupPoint). Метод GetPaymentDetails() должен быть переопределен\n",
    "для отображения места выдачи наличных.\n",
    "\n",
    "#### Дополнительное задание\n",
    "Добавьте к сущестующим классам конструктора классов с использованием гетторов и сетторов и реализуйте взаимодействие объектов между собой"
   ]
  },
  {
   "cell_type": "markdown",
   "metadata": {},
   "source": [
    "<h2 style=\"color:DodgerBlue\">Реализация:</h2>\n",
    "\n",
    "----"
   ]
  },
  {
   "cell_type": "code",
   "execution_count": 1,
   "metadata": {
    "dotnet_interactive": {
     "language": "csharp"
    },
    "polyglot_notebook": {
     "kernelName": "csharp"
    }
   },
   "outputs": [
    {
     "name": "stdout",
     "output_type": "stream",
     "text": [
      "Средств достаточно\n",
      "Детали оплаты: ID: 1, Название способа оплаты: Онлайн оплата, Минимальная сумма: 90\n",
      "Оплата через Онлайн оплата в размере 12000 обработана.\n",
      "по URL: 09875456786778765 обработана.\n",
      "\n",
      "Недостаточно средств\n",
      "Детали оплаты: ID: 2, Название способа оплаты: Банковский перевод, Минимальная сумма: 90000\n",
      "Оплата через Банковский перевод в размере 12000 обработана.\n",
      "\n",
      "Средств достаточно\n",
      "Детали оплаты: ID: 3, Название способа оплаты: Наличные, Минимальная сумма: 90\n",
      " Место выдачи наличных: Сбербанк\n",
      "Оплата через Наличные в размере 12000 обработана.\n"
     ]
    }
   ],
   "source": [
    "public abstract class PaymentMethod\n",
    "{\n",
    "    public int PaymentMethodId {get;set;}\n",
    "    public string MethodName {get;set;}\n",
    "    public decimal MinAmount {get;set;}\n",
    "    \n",
    "    public virtual void ProcessPayment(decimal amount)\n",
    "    {\n",
    "        Console.WriteLine($\"Оплата через {MethodName} в размере {amount} обработана.\");\n",
    "    }\n",
    "\n",
    "    public virtual void CheckMinimumAmount(decimal amount)\n",
    "    {\n",
    "        if (amount >= MinAmount)\n",
    "        {\n",
    "            Console.WriteLine(\"Средств достаточно\");\n",
    "        }\n",
    "        else{Console.WriteLine(\"Недостаточно средств\");}\n",
    "    }\n",
    "\n",
    "    public virtual void GetPaymentDetails()\n",
    "    {\n",
    "        Console.WriteLine($\"Детали оплаты: ID: {PaymentMethodId}, Название способа оплаты: {MethodName}, Минимальная сумма: {MinAmount}\");\n",
    "    }\n",
    "\n",
    "}\n",
    "\n",
    "class OnlinePayment : PaymentMethod\n",
    "{\n",
    "    public string PaymentUrl {get; set;}\n",
    "    \n",
    "    public OnlinePayment(string paymenturl)\n",
    "    {\n",
    "        PaymentUrl = paymenturl;\n",
    "        this.MethodName = \"Онлайн оплата\";\n",
    "        this.PaymentMethodId = 1;\n",
    "    }\n",
    "    \n",
    "    public override void ProcessPayment(decimal amount)\n",
    "    {\n",
    "        base.ProcessPayment(amount);\n",
    "        Console.WriteLine($\"по URL: {PaymentUrl} обработана.\");\n",
    "    }\n",
    "}\n",
    "\n",
    "class BankTransfer : PaymentMethod\n",
    "{\n",
    "    public decimal BankData {get; set;}\n",
    "    public BankTransfer(decimal bankdata)\n",
    "    {\n",
    "        BankData = bankdata; \n",
    "        this.MethodName = \"Банковский перевод\";     \n",
    "        this.PaymentMethodId = 2;  \n",
    "    }\n",
    "    public override void CheckMinimumAmount(decimal amount)\n",
    "    {\n",
    "        if (amount >= MinAmount + BankData)\n",
    "        {\n",
    "            Console.WriteLine(\"Средств достаточно\");\n",
    "        }\n",
    "        else{Console.WriteLine(\"Недостаточно средств\");}        \n",
    "    }\n",
    "}\n",
    "\n",
    "class CashPayment : PaymentMethod\n",
    "{\n",
    "    public string CashPickupPoint {get; set;}\n",
    "    public CashPayment(string cashpickuppoint)\n",
    "    {\n",
    "        CashPickupPoint = cashpickuppoint;\n",
    "        this.MethodName = \"Наличные\";\n",
    "        this.PaymentMethodId = 3;\n",
    "    }\n",
    "    public override void GetPaymentDetails()\n",
    "    {\n",
    "        base.GetPaymentDetails();\n",
    "        Console.WriteLine($\" Место выдачи наличных: {CashPickupPoint}\");\n",
    "    }\n",
    "}\n",
    "\n",
    "\n",
    "string URL = \"09875456786778765\";\n",
    "int oplata = 12000;\n",
    "\n",
    "OnlinePayment onlcash = new OnlinePayment(URL);\n",
    "onlcash.MinAmount = 90;\n",
    "onlcash.CheckMinimumAmount(oplata);\n",
    "onlcash.GetPaymentDetails();\n",
    "onlcash.ProcessPayment(oplata);\n",
    "\n",
    "Console.WriteLine();\n",
    "\n",
    "BankTransfer bankcash = new BankTransfer(120);\n",
    "bankcash.MinAmount = 90000;\n",
    "bankcash.CheckMinimumAmount(oplata);\n",
    "bankcash.GetPaymentDetails();\n",
    "bankcash.ProcessPayment(oplata);\n",
    "\n",
    "Console.WriteLine();\n",
    "\n",
    "CashPayment cash = new CashPayment(\"Сбербанк\");\n",
    "cash.MinAmount = 90;\n",
    "cash.CheckMinimumAmount(oplata);\n",
    "cash.GetPaymentDetails();\n",
    "cash.ProcessPayment(oplata);\n",
    "\n"
   ]
  },
  {
   "cell_type": "code",
   "execution_count": null,
   "metadata": {},
   "outputs": [],
   "source": []
  }
 ],
 "metadata": {
  "kernelspec": {
   "display_name": ".NET (C#)",
   "language": "C#",
   "name": ".net-csharp"
  },
  "polyglot_notebook": {
   "kernelInfo": {
    "defaultKernelName": "csharp",
    "items": [
     {
      "aliases": [],
      "languageName": "csharp",
      "name": "csharp"
     }
    ]
   }
  }
 },
 "nbformat": 4,
 "nbformat_minor": 2
}
