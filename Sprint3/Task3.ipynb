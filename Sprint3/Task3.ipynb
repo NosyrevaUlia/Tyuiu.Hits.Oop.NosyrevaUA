{
 "cells": [
  {
   "cell_type": "markdown",
   "metadata": {},
   "source": [
    "<h1 style=\"color:DodgerBlue\">Индивидальный проект</h1>"
   ]
  },
  {
   "cell_type": "markdown",
   "metadata": {},
   "source": [
    "<h2 style=\"color:DodgerBlue\">Название проекта:</h2>\n",
    "\n",
    "----\n",
    "\n",
    "### Вариант задания 16\n"
   ]
  },
  {
   "cell_type": "markdown",
   "metadata": {},
   "source": [
    "<h2 style=\"color:DodgerBlue\">Описание проекта:</h2>\n",
    "\n",
    "----\n",
    "\n",
    "Создать базовый класс PaymentMethod в C#, который будет представлять\n",
    "различные способы оплаты. На основе этого класса разработать 2-3 производных\n",
    "класса, демонстрирующих принципы наследования и полиморфизма. В каждом из\n",
    "классов должны быть реализованы новые атрибуты и методы, а также\n",
    "переопределены некоторые методы базового класса для демонстрации\n",
    "полиморфизма.\n",
    "Требования к базовому классу PaymentMethod:\n",
    "• Атрибуты: ID способа оплаты (PaymentMethodId), Название способа оплаты\n",
    "(MethodName), Минимальная сумма (MinAmount).\n",
    "• Методы:\n",
    "o ProcessPayment(decimal amount): метод для обработки платежа\n",
    "указанной суммы.\n",
    "o CheckMinimumAmount(decimal amount): метод для проверки\n",
    "минимальной суммы платежа.\n",
    "o GetPaymentDetails(): метод для получения деталей способа оплаты.\n",
    "Требования к производным классам:\n",
    "1. ОнлайнОплата (OnlinePayment): Должен содержать дополнительные\n",
    "атрибуты, такие как URL платежной системы (PaymentUrl).\n",
    "Метод ProcessPayment() должен быть переопределен для включения URL\n",
    "платежной системы в процесс оплаты.\n",
    "2. БанковскийПеревод (BankTransfer): Должен содержать дополнительные\n",
    "атрибуты, такие как Банковские данные (BankData).\n",
    "Метод CheckMinimumAmount() должен быть переопределен для проверки\n",
    "минимальной суммы платежа с учетом банковских комиссий.\n",
    "3. Наличные (CashPayment) (если требуется третий класс): Должен содержать\n",
    "дополнительные атрибуты, такие как Место выдачи наличных\n",
    "(CashPickupPoint). Метод GetPaymentDetails() должен быть переопределен\n",
    "для отображения места выдачи наличных.\n",
    "\n",
    "#### Дополнительное задание\n",
    "Добавьте к сущестующим классам (базовыму и производным 3-4 атрибута и метода) и реализуйте полиморфизм с перекрытием и прегегрузкой методов, а также generic классы"
   ]
  },
  {
   "cell_type": "markdown",
   "metadata": {},
   "source": [
    "<h2 style=\"color:DodgerBlue\">Реализация:</h2>\n",
    "\n",
    "----"
   ]
  },
  {
   "cell_type": "code",
   "execution_count": null,
   "metadata": {
    "dotnet_interactive": {
     "language": "csharp"
    },
    "polyglot_notebook": {
     "kernelName": "csharp"
    }
   },
   "outputs": [
    {
     "name": "stdout",
     "output_type": "stream",
     "text": [
      "Средств достаточно\n",
      "Детали оплаты: ID: 1, Название способа оплаты: Онлайн оплата, Минимальная сумма: 90\n",
      "Оплата через Онлайн оплата в размере 12000 обработана.\n",
      "URL операции: 09875456786778765. \n",
      "\n",
      "\n",
      "Недостаточно средств\n",
      "Детали оплаты: ID: 2, Название способа оплаты: Банковский перевод, Минимальная сумма: 90000\n",
      "Оплата через Банковский перевод в размере 12000 обработана.\n",
      "Спасибо за покупкку! Хорошего дня!\n",
      "\n",
      "Средств достаточно\n",
      "Детали оплаты: ID: 3, Название способа оплаты: Наличные, Минимальная сумма: 90\n",
      "Место выдачи наличных: Сбербанк\n",
      "Оплата через Наличные в размере 12000 обработана.\n",
      "Спасибо за покупку! Приходите ещё!\n",
      "-----------------------------------------------------------------------------------------------------\n",
      "Детали оплаты: ID: 1, Название способа оплаты: Онлайн оплата, Минимальная сумма: 0\n",
      "Детали оплаты: ID: 2, Название способа оплаты: Банковский перевод, Минимальная сумма: 0\n",
      "Детали оплаты: ID: 3, Название способа оплаты: Наличные, Минимальная сумма: 0\n",
      "Место выдачи наличных: Сбер\n",
      "---------------------------------------------\n",
      "Вот строка - Строка\n",
      "Теперь число - 100\n"
     ]
    }
   ],
   "source": [
    "using System;\n",
    "using System.Collections.Generic;\n",
    "\n",
    "public interface ISayBye\n",
    "{\n",
    "    void ISayBye();\n",
    "}\n",
    "\n",
    "public abstract class PaymentMethod\n",
    "{\n",
    "    public int PaymentMethodId {get;set;}\n",
    "    public string MethodName {get;set;}\n",
    "    public decimal MinAmount {get;set;}\n",
    "    public decimal Pay{get;set;}\n",
    "    \n",
    "    public virtual void ProcessPayment(decimal amount)\n",
    "    {\n",
    "        Console.WriteLine($\"Оплата через {MethodName} в размере {amount} обработана.\");\n",
    "    }\n",
    "\n",
    "    public virtual void CheckMinimumAmount(decimal amount)\n",
    "    {\n",
    "        if (amount >= MinAmount)\n",
    "        {\n",
    "            Console.WriteLine(\"Средств достаточно\");\n",
    "        }\n",
    "        else{Console.WriteLine(\"Недостаточно средств\");}\n",
    "    }\n",
    "\n",
    "    public virtual void GetPaymentDetails()\n",
    "    {\n",
    "        Console.WriteLine($\"Детали оплаты: ID: {PaymentMethodId}, Название способа оплаты: {MethodName}, Минимальная сумма: {MinAmount}\");\n",
    "    }\n",
    "}\n",
    "\n",
    "class OnlinePayment : PaymentMethod, ISayBye\n",
    "{\n",
    "    public string PaymentUrl {get; set;}\n",
    "    \n",
    "    public OnlinePayment(string paymenturl, decimal pay)\n",
    "    {\n",
    "        PaymentUrl = paymenturl;\n",
    "        this.MethodName = \"Онлайн оплата\";\n",
    "        this.PaymentMethodId = 1;\n",
    "        this.Pay = pay;\n",
    "    }\n",
    "    \n",
    "    public override void ProcessPayment(decimal amount)\n",
    "    {\n",
    "        base.ProcessPayment(amount);\n",
    "        Console.WriteLine($\"URL операции: {PaymentUrl}. \");\n",
    "    }\n",
    "\n",
    "    public void ISayBye()\n",
    "    {\n",
    "        Console.WriteLine();\n",
    "    }\n",
    "\n",
    "    public void Peregruzka(string str)\n",
    "    {\n",
    "        Console.WriteLine($\"Вот строка - {str}\");\n",
    "    }\n",
    "\n",
    "    public void Peregruzka(int chislo)\n",
    "    {\n",
    "        Console.WriteLine($\"Теперь число - {chislo}\");\n",
    "    }\n",
    "\n",
    "    public static decimal operator +(OnlinePayment onlcash1, OnlinePayment onlcash2)\n",
    "    {\n",
    "        decimal total = onlcash1.Pay + onlcash2.Pay;\n",
    "        return total;\n",
    "    }\n",
    "}\n",
    "\n",
    "class BankTransfer : PaymentMethod, ISayBye\n",
    "{\n",
    "    public decimal BankData {get; set;}\n",
    "    public BankTransfer(decimal bankdata, decimal pay)\n",
    "    {\n",
    "        BankData = bankdata; \n",
    "        this.MethodName = \"Банковский перевод\";     \n",
    "        this.PaymentMethodId = 2;  \n",
    "        this.Pay = pay;\n",
    "    }\n",
    "    public override void CheckMinimumAmount(decimal amount)\n",
    "    {\n",
    "        if (amount >= MinAmount + BankData)\n",
    "        {\n",
    "            Console.WriteLine(\"Средств достаточно\");\n",
    "        }\n",
    "        else{Console.WriteLine(\"Недостаточно средств\");}        \n",
    "    }\n",
    "\n",
    "    public void ISayBye()\n",
    "    {\n",
    "        Console.WriteLine(\"Спасибо за покупкку! Хорошего дня!\");\n",
    "    }\n",
    "}\n",
    "\n",
    "class CashPayment : PaymentMethod, ISayBye\n",
    "{\n",
    "    public string CashPickupPoint {get; set;}\n",
    "    public CashPayment(string cashpickuppoint, decimal pay)\n",
    "    {\n",
    "        CashPickupPoint = cashpickuppoint;\n",
    "        this.MethodName = \"Наличные\";\n",
    "        this.PaymentMethodId = 3;\n",
    "        this.Pay = pay;\n",
    "    }\n",
    "    public override void GetPaymentDetails()\n",
    "    {\n",
    "        base.GetPaymentDetails();\n",
    "        Console.WriteLine($\"Место выдачи наличных: {CashPickupPoint}\");\n",
    "    }\n",
    "\n",
    "    public void ISayBye()\n",
    "    {\n",
    "        Console.WriteLine(\"Спасибо за покупку! Приходите ещё!\");\n",
    "    }\n",
    "}\n",
    "\n",
    "public class PaymentCollection<p> where p : PaymentMethod\n",
    "{\n",
    "    private List<p> _payments = new List<p>();\n",
    "    public void Add(p payment)\n",
    "    {\n",
    "        _payments.Add(payment);\n",
    "    }\n",
    "    public void Remove(p payment)\n",
    "    {\n",
    "        _payments.Remove(payment);\n",
    "    }\n",
    "    public void Display()\n",
    "    {\n",
    "        foreach(var payment in _payments)\n",
    "        {\n",
    "            payment.GetPaymentDetails();\n",
    "        }\n",
    "    }\n",
    "}\n",
    "\n",
    "string URL = \"09875456786778765\";\n",
    "int oplata = 12000;\n",
    "\n",
    "OnlinePayment onlcash = new OnlinePayment(URL,oplata);\n",
    "onlcash.MinAmount = 90;\n",
    "onlcash.CheckMinimumAmount(oplata);\n",
    "onlcash.GetPaymentDetails();\n",
    "onlcash.ProcessPayment(oplata);\n",
    "onlcash.ISayBye();\n",
    "\n",
    "Console.WriteLine();\n",
    "\n",
    "BankTransfer bankcash = new BankTransfer(120,oplata);\n",
    "bankcash.MinAmount = 90000;\n",
    "bankcash.CheckMinimumAmount(oplata);\n",
    "bankcash.GetPaymentDetails();\n",
    "bankcash.ProcessPayment(oplata);\n",
    "bankcash.ISayBye();\n",
    "\n",
    "Console.WriteLine();\n",
    "\n",
    "CashPayment cash = new CashPayment(\"Сбербанк\",oplata);\n",
    "cash.MinAmount = 90;\n",
    "cash.CheckMinimumAmount(oplata);\n",
    "cash.GetPaymentDetails();\n",
    "cash.ProcessPayment(oplata);\n",
    "cash.ISayBye();\n",
    "\n",
    "Console.WriteLine(\"-----------------------------------------------------------------------------------------------------\");\n",
    "\n",
    "PaymentCollection<PaymentMethod> pay = new PaymentCollection<PaymentMethod>();\n",
    "pay.Add(new OnlinePayment(URL, oplata));\n",
    "pay.Add(new BankTransfer(120, oplata));\n",
    "pay.Add(new CashPayment(\"Сбер\", oplata));\n",
    "pay.Display();\n",
    "\n",
    "Console.WriteLine(\"---------------------------------------------\");\n",
    "\n",
    "onlcash.Peregruzka(\"Строка\");\n",
    "onlcash.Peregruzka(100);"
   ]
  },
  {
   "cell_type": "code",
   "execution_count": null,
   "metadata": {
    "dotnet_interactive": {
     "language": "csharp"
    },
    "polyglot_notebook": {
     "kernelName": "csharp"
    }
   },
   "outputs": [
    {
     "ename": "Error",
     "evalue": "(1,10): error CS1002: ; expected\r\n(1,30): error CS1002: ; expected\r\n(2,7): error CS1002: ; expected\r\n(2,9): error CS1002: ; expected",
     "output_type": "error",
     "traceback": [
      "(1,10): error CS1002: ; expected\r\n",
      "(1,30): error CS1002: ; expected\r\n",
      "(2,7): error CS1002: ; expected\r\n",
      "(2,9): error CS1002: ; expected"
     ]
    }
   ],
   "source": [
    "в оплате определить оператор +\n",
    "сумма 2 аккаунтов"
   ]
  },
  {
   "cell_type": "code",
   "execution_count": null,
   "metadata": {},
   "outputs": [
    {
     "name": "stdout",
     "output_type": "stream",
     "text": [
      "10001\r\n"
     ]
    }
   ],
   "source": [
    "\n",
    "int pay1 = 10000;\n",
    "int pay2 = 1;\n",
    "\n",
    "OnlinePayment onlcash = new OnlinePayment(URL, pay1);\n",
    "OnlinePayment onlcash2 = new OnlinePayment(URL,pay2);\n",
    "\n",
    "\n",
    "decimal onlcash3 = onlcash + onlcash2;\n",
    "Console.WriteLine(onlcash3);\n"
   ]
  },
  {
   "cell_type": "code",
   "execution_count": null,
   "metadata": {},
   "outputs": [],
   "source": []
  }
 ],
 "metadata": {
  "kernelspec": {
   "display_name": ".NET (C#)",
   "language": "C#",
   "name": ".net-csharp"
  },
  "polyglot_notebook": {
   "kernelInfo": {
    "defaultKernelName": "csharp",
    "items": [
     {
      "aliases": [],
      "languageName": "csharp",
      "name": "csharp"
     }
    ]
   }
  }
 },
 "nbformat": 4,
 "nbformat_minor": 2
}
